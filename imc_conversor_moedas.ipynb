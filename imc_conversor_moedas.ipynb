{
  "nbformat": 4,
  "nbformat_minor": 0,
  "metadata": {
    "colab": {
      "name": "Cristiano Zarbato Morais - Prova 1.ipynb",
      "provenance": [],
      "collapsed_sections": [],
      "authorship_tag": "ABX9TyO5b4hRQJcH7N5HJMr5E491",
      "include_colab_link": true
    },
    "kernelspec": {
      "name": "python3",
      "display_name": "Python 3"
    },
    "language_info": {
      "name": "python"
    }
  },
  "cells": [
    {
      "cell_type": "markdown",
      "metadata": {
        "id": "view-in-github",
        "colab_type": "text"
      },
      "source": [
        "<a href=\"https://colab.research.google.com/github/crizmorais/studying_python/blob/main/imc_conversor_moedas.ipynb\" target=\"_parent\"><img src=\"https://colab.research.google.com/assets/colab-badge.svg\" alt=\"Open In Colab\"/></a>"
      ]
    },
    {
      "cell_type": "markdown",
      "metadata": {
        "id": "u4Qy8c6EJvPU"
      },
      "source": [
        "###CALCULADORA DE IMC"
      ]
    },
    {
      "cell_type": "code",
      "metadata": {
        "id": "4m75-2Se5QmW"
      },
      "source": [
        "import time\n",
        "\n",
        "#definindo a função imc, que receberá duas variáveis, e depois fará o cálculo do IMC e o print da informações para o usuário\n",
        "def imc(a, b):\n",
        "  #calculo do IMC, considerando as variáveis de entrada do usuário, e colocando apenas duas casas depois da vírgula\n",
        "  calculo = round((a/b**2),2)\n",
        "  #o programa verifica em que faixa de IMC o valor calculado se encaixa, e apresenta mensagens diferentes conforme a faixa\n",
        "  if calculo < 20:\n",
        "    print(f'\\nSeu IMC é de {calculo}, você está abaixo do peso.\\n\\n')\n",
        "  elif calculo >= 20 and calculo <= 25:\n",
        "    print(f'\\nSeu IMC é de {calculo}, você está na faixa normal de peso.\\n\\n')\n",
        "  elif calculo > 25 and calculo <= 30:\n",
        "    print(f'\\nSeu IMC é de {calculo}, você está com excesso de peso.\\n\\n')\n",
        "  elif calculo > 30 and calculo <= 35:\n",
        "    print(f'\\nSeu IMC é de {calculo}, você está com obesidade.\\n\\n')\n",
        "  else:\n",
        "    print(f'\\nSeu IMC é de {calculo}, você está com obesidade mórbida.\\n\\n')\n",
        "      \n",
        "      \n",
        "\n",
        "#iniciando o loop\n",
        "\n",
        "while True:\n",
        "  #mensagem explicativa, o que o programa faz? como sair dele?\n",
        "  print('-----------------------------------------\\nCálculo do Índice de Massa Corporal - IMC\\n-----------------------------------------\\n')\n",
        "  print(\"Digite 1 para entrar com seus dados. \\nDigite 2, para sair do programa.\\n\")\n",
        "  menu = input('Digite a opção desejada: \\n')\n",
        "\n",
        "  #conforme a escolha do usuário, o programa continuará, fechará ou apresentará uma mensagem caso o usuário escolha uma opção inválida\n",
        "  if menu == '1':\n",
        "    #definindo as variáveis de entrada do usuário e convertendo para float, para que seja possível fazer o cálculo, uma vez que os valores de entrada vem no formato str\n",
        "    peso = float(input('Digite seu peso (apenas números): \\n'))\n",
        "    altura = float(input('Digite sua altura (em metros, apenas números, ex: 1.60): \\n'))\n",
        "    #chamando a função imc\n",
        "    imc(peso, altura)\n",
        "  \n",
        "  elif menu == '2':\n",
        "    print('\\nPrograma encerrando.')\n",
        "    time.sleep(3)\n",
        "    break\n",
        "\n",
        "  else:\n",
        "    print('\\n\\n---------------\\nOPÇÃO INVÁLIDA!\\n---------------\\n\\n')"
      ],
      "execution_count": 1,
      "outputs": []
    },
    {
      "cell_type": "markdown",
      "metadata": {
        "id": "XyFCHgYBJ2rg"
      },
      "source": [
        "###CONVERSOR DE MOEDAS"
      ]
    },
    {
      "cell_type": "code",
      "metadata": {
        "id": "7OEReZb0KAZ9"
      },
      "source": [
        "#mensagem explicativa\n",
        "print('O valor digitado será convertido para as seguintes moedas:\\nEuro\\nIene Japonês\\nYuan Chinês\\nDólar Americano\\nRúbio Russo\\nPeso Argentino')\n",
        "#recebe o valor do usuário\n",
        "real = float(input('\\nDigite o valor em reais a ser convertido: \\n\\n'))\n",
        "#calcula o valor de cada moeda\n",
        "euro = real*0.16\n",
        "iene = real*20.67\n",
        "yuan = real*1.15\n",
        "dolar = real*0.18\n",
        "rublo = real*13.33\n",
        "peso = real*18.05\n",
        "\n",
        "# saída dos dados, formatados conforme solicitado pela tarefa. \n",
        "# % inicia a formatação da string, 0 indica que deve ser preenchido com zeros, 10 indica quantos caracteres a saída deve ter, e .2f indica que deve possuir duas casas decimais\n",
        "print(\"\\n\\nValores convertidos:\\n\",\n",
        "      \"\\nR$\", real, \"equivale a %010.2f\" % (euro), \"Euros\",\n",
        "      \"\\nR$\", real, \"equivale a %010.2f\" % (iene), \"Iene Japonês\",\n",
        "      \"\\nR$\", real, \"equivale a %010.2f\" % (yuan), \"Yuan Chinês\",\n",
        "      \"\\nR$\", real, \"equivale a %010.2f\" % (dolar), \"Dólar Americano\",\n",
        "      \"\\nR$\", real, \"equivale a %010.2f\" % (rublo), \"Rublo Russo\",\n",
        "      \"\\nR$\", real, \"equivale a %010.2f\" % (peso), \"Peso Argentino\")\n"
      ],
      "execution_count": null,
      "outputs": []
    },
    {
      "cell_type": "code",
      "metadata": {
        "id": "9-J3qLgGdaBl"
      },
      "source": [
        ""
      ],
      "execution_count": null,
      "outputs": []
    }
  ]
}